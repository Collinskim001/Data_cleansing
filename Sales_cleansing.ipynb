{
 "cells": [
  {
   "cell_type": "code",
   "execution_count": 1,
   "metadata": {},
   "outputs": [
    {
     "name": "stdout",
     "output_type": "stream",
     "text": [
      "<Worksheet \"Email\">\n",
      "<Worksheet \"EXT0070122021\">\n",
      "<Worksheet \"Sheet3\">\n",
      "<Worksheet \"Data cleaning\">\n"
     ]
    }
   ],
   "source": [
    "#Importing neccessary libraries\n",
    "import openpyxl \n",
    "import pandas as pd\n",
    "import numpy as np\n",
    "from openpyxl import load_workbook\n",
    "data=openpyxl.load_workbook(\"Excel for Analytics Project Series Source File (1).xlsx\")\n",
    "\n",
    "#Checking the names of sheets in the excel file\n",
    "for sheets in data.worksheets:\n",
    "    print(sheets)"
   ]
  },
  {
   "cell_type": "code",
   "execution_count": 2,
   "metadata": {},
   "outputs": [
    {
     "data": {
      "text/html": [
       "<div>\n",
       "<style scoped>\n",
       "    .dataframe tbody tr th:only-of-type {\n",
       "        vertical-align: middle;\n",
       "    }\n",
       "\n",
       "    .dataframe tbody tr th {\n",
       "        vertical-align: top;\n",
       "    }\n",
       "\n",
       "    .dataframe thead th {\n",
       "        text-align: right;\n",
       "    }\n",
       "</style>\n",
       "<table border=\"1\" class=\"dataframe\">\n",
       "  <thead>\n",
       "    <tr style=\"text-align: right;\">\n",
       "      <th></th>\n",
       "      <th>CLID</th>\n",
       "      <th>Date</th>\n",
       "      <th>Vol</th>\n",
       "    </tr>\n",
       "  </thead>\n",
       "  <tbody>\n",
       "    <tr>\n",
       "      <th>0</th>\n",
       "      <td>CL11420</td>\n",
       "      <td>03/31/2020</td>\n",
       "      <td>884</td>\n",
       "    </tr>\n",
       "    <tr>\n",
       "      <th>1</th>\n",
       "      <td>NaN</td>\n",
       "      <td>04/30/2020</td>\n",
       "      <td>886</td>\n",
       "    </tr>\n",
       "    <tr>\n",
       "      <th>2</th>\n",
       "      <td>NaN</td>\n",
       "      <td>05/31/2020</td>\n",
       "      <td>968</td>\n",
       "    </tr>\n",
       "  </tbody>\n",
       "</table>\n",
       "</div>"
      ],
      "text/plain": [
       "      CLID        Date  Vol\n",
       "0  CL11420  03/31/2020  884\n",
       "1      NaN  04/30/2020  886\n",
       "2      NaN  05/31/2020  968"
      ]
     },
     "execution_count": 2,
     "metadata": {},
     "output_type": "execute_result"
    }
   ],
   "source": [
    "#Since sheet \"EXT0070122021\" contains what seems to be volume data, we specifically import sheet \"EXT0070122021\" as volume\n",
    "volume=pd.read_excel(\"Excel for Analytics Project Series Source File (1).xlsx\", sheet_name=1)\n",
    "volume.head(3)"
   ]
  },
  {
   "cell_type": "code",
   "execution_count": 3,
   "metadata": {},
   "outputs": [
    {
     "data": {
      "text/html": [
       "<div>\n",
       "<style scoped>\n",
       "    .dataframe tbody tr th:only-of-type {\n",
       "        vertical-align: middle;\n",
       "    }\n",
       "\n",
       "    .dataframe tbody tr th {\n",
       "        vertical-align: top;\n",
       "    }\n",
       "\n",
       "    .dataframe thead th {\n",
       "        text-align: right;\n",
       "    }\n",
       "</style>\n",
       "<table border=\"1\" class=\"dataframe\">\n",
       "  <thead>\n",
       "    <tr style=\"text-align: right;\">\n",
       "      <th></th>\n",
       "      <th>Vol</th>\n",
       "    </tr>\n",
       "  </thead>\n",
       "  <tbody>\n",
       "    <tr>\n",
       "      <th>count</th>\n",
       "      <td>907.000000</td>\n",
       "    </tr>\n",
       "    <tr>\n",
       "      <th>mean</th>\n",
       "      <td>5376.309813</td>\n",
       "    </tr>\n",
       "    <tr>\n",
       "      <th>std</th>\n",
       "      <td>8551.586979</td>\n",
       "    </tr>\n",
       "    <tr>\n",
       "      <th>min</th>\n",
       "      <td>26.000000</td>\n",
       "    </tr>\n",
       "    <tr>\n",
       "      <th>25%</th>\n",
       "      <td>568.500000</td>\n",
       "    </tr>\n",
       "    <tr>\n",
       "      <th>50%</th>\n",
       "      <td>1173.000000</td>\n",
       "    </tr>\n",
       "    <tr>\n",
       "      <th>75%</th>\n",
       "      <td>5284.500000</td>\n",
       "    </tr>\n",
       "    <tr>\n",
       "      <th>max</th>\n",
       "      <td>41598.000000</td>\n",
       "    </tr>\n",
       "  </tbody>\n",
       "</table>\n",
       "</div>"
      ],
      "text/plain": [
       "                Vol\n",
       "count    907.000000\n",
       "mean    5376.309813\n",
       "std     8551.586979\n",
       "min       26.000000\n",
       "25%      568.500000\n",
       "50%     1173.000000\n",
       "75%     5284.500000\n",
       "max    41598.000000"
      ]
     },
     "execution_count": 3,
     "metadata": {},
     "output_type": "execute_result"
    }
   ],
   "source": [
    "#check the descriptiion of the data\n",
    "volume.describe()"
   ]
  },
  {
   "cell_type": "code",
   "execution_count": 4,
   "metadata": {},
   "outputs": [
    {
     "data": {
      "text/plain": [
       "CLID    854\n",
       "Date      0\n",
       "Vol       0\n",
       "dtype: int64"
      ]
     },
     "execution_count": 4,
     "metadata": {},
     "output_type": "execute_result"
    }
   ],
   "source": [
    "# Check for missing data points\n",
    "volume.isnull().sum()"
   ]
  },
  {
   "cell_type": "code",
   "execution_count": 5,
   "metadata": {},
   "outputs": [
    {
     "data": {
      "text/html": [
       "<div>\n",
       "<style scoped>\n",
       "    .dataframe tbody tr th:only-of-type {\n",
       "        vertical-align: middle;\n",
       "    }\n",
       "\n",
       "    .dataframe tbody tr th {\n",
       "        vertical-align: top;\n",
       "    }\n",
       "\n",
       "    .dataframe thead th {\n",
       "        text-align: right;\n",
       "    }\n",
       "</style>\n",
       "<table border=\"1\" class=\"dataframe\">\n",
       "  <thead>\n",
       "    <tr style=\"text-align: right;\">\n",
       "      <th></th>\n",
       "      <th>CLID</th>\n",
       "      <th>Date</th>\n",
       "      <th>Vol</th>\n",
       "    </tr>\n",
       "  </thead>\n",
       "  <tbody>\n",
       "    <tr>\n",
       "      <th>0</th>\n",
       "      <td>CL11420</td>\n",
       "      <td>03/31/2020</td>\n",
       "      <td>884</td>\n",
       "    </tr>\n",
       "    <tr>\n",
       "      <th>1</th>\n",
       "      <td>CL11420</td>\n",
       "      <td>04/30/2020</td>\n",
       "      <td>886</td>\n",
       "    </tr>\n",
       "    <tr>\n",
       "      <th>2</th>\n",
       "      <td>CL11420</td>\n",
       "      <td>05/31/2020</td>\n",
       "      <td>968</td>\n",
       "    </tr>\n",
       "    <tr>\n",
       "      <th>3</th>\n",
       "      <td>CL11420</td>\n",
       "      <td>06/30/2020</td>\n",
       "      <td>564</td>\n",
       "    </tr>\n",
       "  </tbody>\n",
       "</table>\n",
       "</div>"
      ],
      "text/plain": [
       "      CLID        Date  Vol\n",
       "0  CL11420  03/31/2020  884\n",
       "1  CL11420  04/30/2020  886\n",
       "2  CL11420  05/31/2020  968\n",
       "3  CL11420  06/30/2020  564"
      ]
     },
     "execution_count": 5,
     "metadata": {},
     "output_type": "execute_result"
    }
   ],
   "source": [
    "# Client id got 854 missing entries. We need to fill it using ffillna function with method ffill to fill values downwards with upper value.sum\n",
    "volume['CLID']=volume['CLID'].fillna(method='ffill') \n",
    "volume.head(4)"
   ]
  },
  {
   "cell_type": "code",
   "execution_count": 6,
   "metadata": {},
   "outputs": [
    {
     "data": {
      "text/plain": [
       "CLID    object\n",
       "Date    object\n",
       "Vol      int64\n",
       "dtype: object"
      ]
     },
     "execution_count": 6,
     "metadata": {},
     "output_type": "execute_result"
    }
   ],
   "source": [
    "#check the data types of information\n",
    "volume.dtypes"
   ]
  },
  {
   "cell_type": "code",
   "execution_count": 7,
   "metadata": {},
   "outputs": [
    {
     "data": {
      "text/plain": [
       "0   2020-03-31\n",
       "1   2020-04-30\n",
       "2   2020-05-31\n",
       "3   2020-06-30\n",
       "4   2020-07-31\n",
       "Name: Date, dtype: datetime64[ns]"
      ]
     },
     "execution_count": 7,
     "metadata": {},
     "output_type": "execute_result"
    }
   ],
   "source": [
    "#We need to change the dtype of date column to dtype\n",
    "date_format = \"%m/%d/%Y\"\n",
    "date_string = volume['Date']\n",
    "volume['Date']= pd.to_datetime(date_string, format=date_format)\n",
    "\n",
    "volume['Date'].head()"
   ]
  },
  {
   "cell_type": "code",
   "execution_count": 8,
   "metadata": {},
   "outputs": [
    {
     "name": "stdout",
     "output_type": "stream",
     "text": [
      "53\n"
     ]
    }
   ],
   "source": [
    "# confirm the no of unique id values in volume data\n",
    "volume_unique_id=len(volume['CLID'].unique())\n",
    "print(volume_unique_id)"
   ]
  },
  {
   "cell_type": "code",
   "execution_count": 9,
   "metadata": {},
   "outputs": [
    {
     "data": {
      "text/html": [
       "<div>\n",
       "<style scoped>\n",
       "    .dataframe tbody tr th:only-of-type {\n",
       "        vertical-align: middle;\n",
       "    }\n",
       "\n",
       "    .dataframe tbody tr th {\n",
       "        vertical-align: top;\n",
       "    }\n",
       "\n",
       "    .dataframe thead th {\n",
       "        text-align: right;\n",
       "    }\n",
       "</style>\n",
       "<table border=\"1\" class=\"dataframe\">\n",
       "  <thead>\n",
       "    <tr style=\"text-align: right;\">\n",
       "      <th></th>\n",
       "      <th>CLID</th>\n",
       "      <th>GEOID</th>\n",
       "    </tr>\n",
       "  </thead>\n",
       "  <tbody>\n",
       "    <tr>\n",
       "      <th>0</th>\n",
       "      <td>C-CL69323</td>\n",
       "      <td>GEO1001</td>\n",
       "    </tr>\n",
       "    <tr>\n",
       "      <th>1</th>\n",
       "      <td>C-CL97995</td>\n",
       "      <td>GEO1001</td>\n",
       "    </tr>\n",
       "    <tr>\n",
       "      <th>2</th>\n",
       "      <td>C-CL87299</td>\n",
       "      <td>GEO1003</td>\n",
       "    </tr>\n",
       "  </tbody>\n",
       "</table>\n",
       "</div>"
      ],
      "text/plain": [
       "        CLID    GEOID\n",
       "0  C-CL69323  GEO1001\n",
       "1  C-CL97995  GEO1001\n",
       "2  C-CL87299  GEO1003"
      ]
     },
     "execution_count": 9,
     "metadata": {},
     "output_type": "execute_result"
    }
   ],
   "source": [
    "# we import GeoData sheet as Geolocation\n",
    "Geolocation=pd.read_excel(\"Excel for Analytics Project Series Source File (1).xlsx\", sheet_name=2)\n",
    "Geolocation.head(3)"
   ]
  },
  {
   "cell_type": "code",
   "execution_count": 10,
   "metadata": {},
   "outputs": [
    {
     "name": "stdout",
     "output_type": "stream",
     "text": [
      "53\n"
     ]
    }
   ],
   "source": [
    "#confirm unique id values of Geolocation data\n",
    "Geolocation_unique=len(Geolocation['CLID'].unique())\n",
    "print(Geolocation_unique)"
   ]
  },
  {
   "cell_type": "code",
   "execution_count": 11,
   "metadata": {},
   "outputs": [
    {
     "data": {
      "text/plain": [
       "0    CL69323\n",
       "1    CL97995\n",
       "2    CL87299\n",
       "3    CL38496\n",
       "4    CL75562\n",
       "Name: CLID, dtype: object"
      ]
     },
     "execution_count": 11,
     "metadata": {},
     "output_type": "execute_result"
    }
   ],
   "source": [
    "#We need to trim the number of Geolocation CLID to become 5 characters from 7 so as to be identical to that of volume data\n",
    "Geolocation['CLID']= Geolocation['CLID'].str[2:]#.str.pad(3, fillchar='0')\n",
    "Geolocation['CLID'].head()"
   ]
  },
  {
   "cell_type": "code",
   "execution_count": 12,
   "metadata": {},
   "outputs": [
    {
     "name": "stdout",
     "output_type": "stream",
     "text": [
      "Empty DataFrame\n",
      "Columns: [Hey,\n",
      "\n",
      "The board is asking to see how volume looked in Q2. I got some data (attached), but didn’t have a chance to pull anything together and was hoping you could take a stab at it.\n",
      "\n",
      "I think they just want to see Q2 2021 volume by region and wanted to know if everything was looking good. I think this file has what you need. I don’t remember all the region codes – I know NAM ends in 1, EMEA ends in 3 and APAC and LATAM are 2 and 4, but I don’t remember which is which. I do know LATAM has the lowest volume so just go ahead and assign that to which ever comes out lowest.\n",
      "\n",
      "I appreciate your help!]\n",
      "Index: []\n"
     ]
    }
   ],
   "source": [
    "#Reviewing the email\n",
    "Email=pd.read_excel(\"Excel for Analytics Project Series Source File (1).xlsx\", sheet_name=0)\n",
    "print(Email)"
   ]
  },
  {
   "cell_type": "code",
   "execution_count": 13,
   "metadata": {},
   "outputs": [
    {
     "data": {
      "text/html": [
       "<div>\n",
       "<style scoped>\n",
       "    .dataframe tbody tr th:only-of-type {\n",
       "        vertical-align: middle;\n",
       "    }\n",
       "\n",
       "    .dataframe tbody tr th {\n",
       "        vertical-align: top;\n",
       "    }\n",
       "\n",
       "    .dataframe thead th {\n",
       "        text-align: right;\n",
       "    }\n",
       "</style>\n",
       "<table border=\"1\" class=\"dataframe\">\n",
       "  <thead>\n",
       "    <tr style=\"text-align: right;\">\n",
       "      <th></th>\n",
       "      <th>CLID</th>\n",
       "      <th>Date</th>\n",
       "      <th>Vol</th>\n",
       "      <th>GEOID</th>\n",
       "    </tr>\n",
       "  </thead>\n",
       "  <tbody>\n",
       "    <tr>\n",
       "      <th>0</th>\n",
       "      <td>CL11420</td>\n",
       "      <td>2020-03-31</td>\n",
       "      <td>884</td>\n",
       "      <td>GEO1004</td>\n",
       "    </tr>\n",
       "    <tr>\n",
       "      <th>1</th>\n",
       "      <td>CL11420</td>\n",
       "      <td>2020-04-30</td>\n",
       "      <td>886</td>\n",
       "      <td>GEO1004</td>\n",
       "    </tr>\n",
       "    <tr>\n",
       "      <th>2</th>\n",
       "      <td>CL11420</td>\n",
       "      <td>2020-05-31</td>\n",
       "      <td>968</td>\n",
       "      <td>GEO1004</td>\n",
       "    </tr>\n",
       "    <tr>\n",
       "      <th>3</th>\n",
       "      <td>CL11420</td>\n",
       "      <td>2020-06-30</td>\n",
       "      <td>564</td>\n",
       "      <td>GEO1004</td>\n",
       "    </tr>\n",
       "    <tr>\n",
       "      <th>4</th>\n",
       "      <td>CL11420</td>\n",
       "      <td>2020-07-31</td>\n",
       "      <td>648</td>\n",
       "      <td>GEO1004</td>\n",
       "    </tr>\n",
       "  </tbody>\n",
       "</table>\n",
       "</div>"
      ],
      "text/plain": [
       "      CLID       Date  Vol    GEOID\n",
       "0  CL11420 2020-03-31  884  GEO1004\n",
       "1  CL11420 2020-04-30  886  GEO1004\n",
       "2  CL11420 2020-05-31  968  GEO1004\n",
       "3  CL11420 2020-06-30  564  GEO1004\n",
       "4  CL11420 2020-07-31  648  GEO1004"
      ]
     },
     "execution_count": 13,
     "metadata": {},
     "output_type": "execute_result"
    }
   ],
   "source": [
    "# We need to merge the dataset into one sheet called GeoVol\n",
    "GeoVol = volume.merge(Geolocation, on='CLID', how='left')\n",
    "GeoVol.head()"
   ]
  },
  {
   "cell_type": "code",
   "execution_count": 14,
   "metadata": {},
   "outputs": [
    {
     "name": "stdout",
     "output_type": "stream",
     "text": [
      "53\n"
     ]
    }
   ],
   "source": [
    "# confirming the number of unique client ids to be 53\n",
    "GeoVol_unique=len(GeoVol['CLID'].unique())\n",
    "print(GeoVol_unique)"
   ]
  },
  {
   "cell_type": "code",
   "execution_count": 15,
   "metadata": {},
   "outputs": [
    {
     "name": "stdout",
     "output_type": "stream",
     "text": [
      "['GEO1004' 'GEO1001' 'GEO1003' 'GEO1002']\n"
     ]
    }
   ],
   "source": [
    "#Confirming the unique values of GEOID\n",
    "print(GeoVol['GEOID'].unique())"
   ]
  },
  {
   "cell_type": "code",
   "execution_count": 16,
   "metadata": {},
   "outputs": [
    {
     "name": "stdout",
     "output_type": "stream",
     "text": [
      "GEOID\n",
      "GEO1001    3008286\n",
      "GEO1002     562005\n",
      "GEO1003     880760\n",
      "GEO1004     425262\n",
      "Name: Vol, dtype: int64\n"
     ]
    }
   ],
   "source": [
    "# We need to inlude Geonames as by description in the email.\n",
    "#I don’t remember all the region codes – I know NAM ends in 1, EMEA ends in 3 and APAC and LATAM are 2 and 4, but I don’t remember which is which.\n",
    "# I do know LATAM has the lowest volume so just go ahead and assign that to which ever comes out lowest.\n",
    "\n",
    "# First we need to calculate the total sales by region.\n",
    "Sales_volume_by_geoid=GeoVol.groupby('GEOID')['Vol'].sum()\n",
    "print(Sales_volume_by_geoid)\n"
   ]
  },
  {
   "cell_type": "code",
   "execution_count": 17,
   "metadata": {},
   "outputs": [
    {
     "data": {
      "text/html": [
       "<div>\n",
       "<style scoped>\n",
       "    .dataframe tbody tr th:only-of-type {\n",
       "        vertical-align: middle;\n",
       "    }\n",
       "\n",
       "    .dataframe tbody tr th {\n",
       "        vertical-align: top;\n",
       "    }\n",
       "\n",
       "    .dataframe thead th {\n",
       "        text-align: right;\n",
       "    }\n",
       "</style>\n",
       "<table border=\"1\" class=\"dataframe\">\n",
       "  <thead>\n",
       "    <tr style=\"text-align: right;\">\n",
       "      <th></th>\n",
       "      <th>CLID</th>\n",
       "      <th>Date</th>\n",
       "      <th>Vol</th>\n",
       "      <th>GEOID</th>\n",
       "      <th>REGION_NAME</th>\n",
       "    </tr>\n",
       "  </thead>\n",
       "  <tbody>\n",
       "    <tr>\n",
       "      <th>0</th>\n",
       "      <td>CL11420</td>\n",
       "      <td>2020-03-31</td>\n",
       "      <td>884</td>\n",
       "      <td>GEO1004</td>\n",
       "      <td>LATAM</td>\n",
       "    </tr>\n",
       "    <tr>\n",
       "      <th>1</th>\n",
       "      <td>CL11420</td>\n",
       "      <td>2020-04-30</td>\n",
       "      <td>886</td>\n",
       "      <td>GEO1004</td>\n",
       "      <td>LATAM</td>\n",
       "    </tr>\n",
       "    <tr>\n",
       "      <th>2</th>\n",
       "      <td>CL11420</td>\n",
       "      <td>2020-05-31</td>\n",
       "      <td>968</td>\n",
       "      <td>GEO1004</td>\n",
       "      <td>LATAM</td>\n",
       "    </tr>\n",
       "    <tr>\n",
       "      <th>3</th>\n",
       "      <td>CL11420</td>\n",
       "      <td>2020-06-30</td>\n",
       "      <td>564</td>\n",
       "      <td>GEO1004</td>\n",
       "      <td>LATAM</td>\n",
       "    </tr>\n",
       "    <tr>\n",
       "      <th>4</th>\n",
       "      <td>CL11420</td>\n",
       "      <td>2020-07-31</td>\n",
       "      <td>648</td>\n",
       "      <td>GEO1004</td>\n",
       "      <td>LATAM</td>\n",
       "    </tr>\n",
       "  </tbody>\n",
       "</table>\n",
       "</div>"
      ],
      "text/plain": [
       "      CLID       Date  Vol    GEOID REGION_NAME\n",
       "0  CL11420 2020-03-31  884  GEO1004       LATAM\n",
       "1  CL11420 2020-04-30  886  GEO1004       LATAM\n",
       "2  CL11420 2020-05-31  968  GEO1004       LATAM\n",
       "3  CL11420 2020-06-30  564  GEO1004       LATAM\n",
       "4  CL11420 2020-07-31  648  GEO1004       LATAM"
      ]
     },
     "execution_count": 17,
     "metadata": {},
     "output_type": "execute_result"
    }
   ],
   "source": [
    "# Since we can clearly see the sales volume by region, we can name each region. \n",
    "# we create a mapping dictionary and include a column of region names in our data sheets.\n",
    "Region_mapping = {\"GEO1001\": \"NAM\", \"GEO1002\":\"APAC\", \"GEO1003\":\"EMEA\",\"GEO1004\":\"LATAM\"}\n",
    "\n",
    "GeoVol['REGION_NAME'] = GeoVol['GEOID'].map(Region_mapping)\n",
    "GeoVol.head()\n"
   ]
  },
  {
   "cell_type": "code",
   "execution_count": 18,
   "metadata": {},
   "outputs": [
    {
     "data": {
      "text/html": [
       "<div>\n",
       "<style scoped>\n",
       "    .dataframe tbody tr th:only-of-type {\n",
       "        vertical-align: middle;\n",
       "    }\n",
       "\n",
       "    .dataframe tbody tr th {\n",
       "        vertical-align: top;\n",
       "    }\n",
       "\n",
       "    .dataframe thead th {\n",
       "        text-align: right;\n",
       "    }\n",
       "</style>\n",
       "<table border=\"1\" class=\"dataframe\">\n",
       "  <thead>\n",
       "    <tr style=\"text-align: right;\">\n",
       "      <th></th>\n",
       "      <th>CLID</th>\n",
       "      <th>Date</th>\n",
       "      <th>Vol</th>\n",
       "      <th>GEOID</th>\n",
       "      <th>REGION_NAME</th>\n",
       "    </tr>\n",
       "    <tr>\n",
       "      <th>CLID</th>\n",
       "      <th></th>\n",
       "      <th></th>\n",
       "      <th></th>\n",
       "      <th></th>\n",
       "      <th></th>\n",
       "    </tr>\n",
       "  </thead>\n",
       "  <tbody>\n",
       "    <tr>\n",
       "      <th>CL11420</th>\n",
       "      <td>CL11420</td>\n",
       "      <td>2020-03-31</td>\n",
       "      <td>884</td>\n",
       "      <td>GEO1004</td>\n",
       "      <td>LATAM</td>\n",
       "    </tr>\n",
       "    <tr>\n",
       "      <th>CL11420</th>\n",
       "      <td>CL11420</td>\n",
       "      <td>2020-04-30</td>\n",
       "      <td>886</td>\n",
       "      <td>GEO1004</td>\n",
       "      <td>LATAM</td>\n",
       "    </tr>\n",
       "    <tr>\n",
       "      <th>CL11420</th>\n",
       "      <td>CL11420</td>\n",
       "      <td>2020-05-31</td>\n",
       "      <td>968</td>\n",
       "      <td>GEO1004</td>\n",
       "      <td>LATAM</td>\n",
       "    </tr>\n",
       "    <tr>\n",
       "      <th>CL11420</th>\n",
       "      <td>CL11420</td>\n",
       "      <td>2020-06-30</td>\n",
       "      <td>564</td>\n",
       "      <td>GEO1004</td>\n",
       "      <td>LATAM</td>\n",
       "    </tr>\n",
       "    <tr>\n",
       "      <th>CL11420</th>\n",
       "      <td>CL11420</td>\n",
       "      <td>2020-07-31</td>\n",
       "      <td>648</td>\n",
       "      <td>GEO1004</td>\n",
       "      <td>LATAM</td>\n",
       "    </tr>\n",
       "  </tbody>\n",
       "</table>\n",
       "</div>"
      ],
      "text/plain": [
       "            CLID       Date  Vol    GEOID REGION_NAME\n",
       "CLID                                                 \n",
       "CL11420  CL11420 2020-03-31  884  GEO1004       LATAM\n",
       "CL11420  CL11420 2020-04-30  886  GEO1004       LATAM\n",
       "CL11420  CL11420 2020-05-31  968  GEO1004       LATAM\n",
       "CL11420  CL11420 2020-06-30  564  GEO1004       LATAM\n",
       "CL11420  CL11420 2020-07-31  648  GEO1004       LATAM"
      ]
     },
     "execution_count": 18,
     "metadata": {},
     "output_type": "execute_result"
    }
   ],
   "source": [
    "# setting index to be Client id \n",
    "GeoVol= GeoVol.set_index(GeoVol['CLID'])\n",
    "GeoVol.head()\n"
   ]
  },
  {
   "cell_type": "code",
   "execution_count": 19,
   "metadata": {},
   "outputs": [],
   "source": [
    "\n",
    "GeoVol.to_csv('GeoVol.csv', index=False)"
   ]
  }
 ],
 "metadata": {
  "kernelspec": {
   "display_name": "Python 3",
   "language": "python",
   "name": "python3"
  },
  "language_info": {
   "codemirror_mode": {
    "name": "ipython",
    "version": 3
   },
   "file_extension": ".py",
   "mimetype": "text/x-python",
   "name": "python",
   "nbconvert_exporter": "python",
   "pygments_lexer": "ipython3",
   "version": "3.11.5"
  },
  "orig_nbformat": 4
 },
 "nbformat": 4,
 "nbformat_minor": 2
}
